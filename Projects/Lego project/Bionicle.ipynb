{
 "cells": [
  {
   "cell_type": "markdown",
   "id": "7fa857cd",
   "metadata": {},
   "source": [
    "# Bionicle Set Data Evaluation"
   ]
  },
  {
   "cell_type": "markdown",
   "id": "2457bb95",
   "metadata": {},
   "source": [
    "## Context\n",
    "\n",
    "Bionicle (stylized as BIONICLE) was a Lego theme initally released in 2001 and ran until 2010. The theme differed from many other LEGO themes in that it was not a brick based system primary focused around buildings and vehicals, but rather used specalized, technic-based pieces to construct action figures similar in size to Barbie or GI Joe. It was also unique in that it had a dedicated story centering around a group of heroic individuals (typically reffered to as 'Toa') using magical masks, elemental powers (such as fire, stone, water, etc.) and various weapons to combat the malevolent, shadow-weilding 'Makuta'. This focus on story deviated from other Lego lines that primarly encourgaed customers to use their imagination to create plot points, backstories, etc. For more information on the story, please visit the Bionicle Sector 01 wiki here: https://biosector01.com"
   ]
  },
  {
   "cell_type": "markdown",
   "id": "58378458",
   "metadata": {},
   "source": [
    "## Purpose (WIP)\n",
    "\n",
    "The focus of this Notebook and all accomapning materials is to provide a breakdown of the BIONICLE line and evaluate each individual sets piece count, price point, color usage among other factors. For this work, we will be using the 'LEGO Database' dataset, which was obtained from the following location: https://www.kaggle.com/datasets/rtatman/lego-database. This dataset encompasses all Lego sets, themes and colors used from the years 1949-2017. While many sets have been released since then, this list encompasses all offically released Bionicle sets, and as such, is suitable for this work.\n",
    "\n",
    "NOTE: Bionicle was rebooted for a brief period in 2015-2016. This analysis will make sure to denote all sets released from 2001-2010 as 'Gen 1', and all sets released from 2015-2016 as 'Gen 2'."
   ]
  },
  {
   "cell_type": "code",
   "execution_count": null,
   "id": "fad522e8",
   "metadata": {},
   "outputs": [],
   "source": []
  }
 ],
 "metadata": {
  "kernelspec": {
   "display_name": "Python 3",
   "language": "python",
   "name": "python3"
  },
  "language_info": {
   "name": "python",
   "version": "3.8.10"
  }
 },
 "nbformat": 4,
 "nbformat_minor": 5
}
