{
 "cells": [
  {
   "cell_type": "markdown",
   "id": "33d4b54e",
   "metadata": {},
   "source": [
    "### C.Oetting Capstone"
   ]
  }
 ],
 "metadata": {
  "language_info": {
   "name": "python"
  }
 },
 "nbformat": 4,
 "nbformat_minor": 5
}
