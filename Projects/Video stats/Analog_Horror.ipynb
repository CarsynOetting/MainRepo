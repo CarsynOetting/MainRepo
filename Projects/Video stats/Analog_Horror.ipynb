{
 "cells": [
  {
   "cell_type": "markdown",
   "metadata": {},
   "source": [
    "# Analog Horror Statistics Report\n",
    "\n",
    "This will gather viewing data relative size for selected horror series\n",
    "\n",
    "1 - All of these can be found on YouTube\n",
    "2 - This report is specific to October/November 2024 timeframe - this may change with the implmentation of a webscraper"
   ]
  },
  {
   "cell_type": "markdown",
   "metadata": {},
   "source": [
    "## Series' used in this study\n",
    "\n",
    "1. The Mandela Cataloge\n",
    "2. Monument Mythos\n",
    "3. Greylock\n",
    "4. Midwest Angellica\n",
    "5. The Walton Files\n",
    "6. Local 58\n",
    "7. Marble Hornets\n",
    "8. The Oldest View\n",
    "\n",
    "#### These were chosen as they all meet the following criteria.\n",
    "1. A sizeable following and overall popularity. These and are most likely to be recognized by fans of the genre.\n",
    "2. All are created by a specific group or individual, as opposed to a community led project.\n",
    "3. These are original, and did not stem a preexisting IP or idea.\n",
    "4. All consist of 5 or more episodes or installments\n",
    "\n",
    "#### Regarding Exclusions\n",
    "It is important to note that certian series' have been left off this list. As this report is complied by a single individual, it was decided to focus on only 8 projects in order to prevent scope creep. This list should not be seen as a judgement of quality, although the authors' personal interests did play a role in determining the list. "
   ]
  },
  {
   "cell_type": "markdown",
   "metadata": {},
   "source": [
    "## Imports"
   ]
  },
  {
   "cell_type": "markdown",
   "metadata": {},
   "source": [
    "This segment was created due to issues seen with the \"googleapiclient\" import"
   ]
  },
  {
   "cell_type": "code",
   "execution_count": 5,
   "metadata": {},
   "outputs": [
    {
     "name": "stdout",
     "output_type": "stream",
     "text": [
      "Collecting google-api-python-client\n",
      "  Using cached google_api_python_client-2.151.0-py2.py3-none-any.whl.metadata (6.7 kB)\n",
      "Collecting google-auth-httplib2\n",
      "  Using cached google_auth_httplib2-0.2.0-py2.py3-none-any.whl.metadata (2.2 kB)\n",
      "Collecting google-auth-oauthlib\n",
      "  Using cached google_auth_oauthlib-1.2.1-py2.py3-none-any.whl.metadata (2.7 kB)\n",
      "Collecting httplib2<1.dev0,>=0.19.0 (from google-api-python-client)\n",
      "  Using cached httplib2-0.22.0-py3-none-any.whl.metadata (2.6 kB)\n",
      "Collecting google-auth!=2.24.0,!=2.25.0,<3.0.0.dev0,>=1.32.0 (from google-api-python-client)\n",
      "  Using cached google_auth-2.35.0-py2.py3-none-any.whl.metadata (4.7 kB)\n",
      "Collecting google-api-core!=2.0.*,!=2.1.*,!=2.2.*,!=2.3.0,<3.0.0.dev0,>=1.31.5 (from google-api-python-client)\n",
      "  Using cached google_api_core-2.22.0-py3-none-any.whl.metadata (2.9 kB)\n",
      "Collecting uritemplate<5,>=3.0.1 (from google-api-python-client)\n",
      "  Using cached uritemplate-4.1.1-py2.py3-none-any.whl.metadata (2.9 kB)\n",
      "Collecting requests-oauthlib>=0.7.0 (from google-auth-oauthlib)\n",
      "  Using cached requests_oauthlib-2.0.0-py2.py3-none-any.whl.metadata (11 kB)\n",
      "Collecting googleapis-common-protos<2.0.dev0,>=1.56.2 (from google-api-core!=2.0.*,!=2.1.*,!=2.2.*,!=2.3.0,<3.0.0.dev0,>=1.31.5->google-api-python-client)\n",
      "  Using cached googleapis_common_protos-1.65.0-py2.py3-none-any.whl.metadata (1.5 kB)\n",
      "Collecting protobuf!=3.20.0,!=3.20.1,!=4.21.0,!=4.21.1,!=4.21.2,!=4.21.3,!=4.21.4,!=4.21.5,<6.0.0.dev0,>=3.19.5 (from google-api-core!=2.0.*,!=2.1.*,!=2.2.*,!=2.3.0,<3.0.0.dev0,>=1.31.5->google-api-python-client)\n",
      "  Downloading protobuf-5.28.3-cp39-cp39-win_amd64.whl.metadata (592 bytes)\n",
      "Collecting proto-plus<2.0.0dev,>=1.22.3 (from google-api-core!=2.0.*,!=2.1.*,!=2.2.*,!=2.3.0,<3.0.0.dev0,>=1.31.5->google-api-python-client)\n",
      "  Using cached proto_plus-1.25.0-py3-none-any.whl.metadata (2.2 kB)\n",
      "Collecting requests<3.0.0.dev0,>=2.18.0 (from google-api-core!=2.0.*,!=2.1.*,!=2.2.*,!=2.3.0,<3.0.0.dev0,>=1.31.5->google-api-python-client)\n",
      "  Downloading requests-2.32.3-py3-none-any.whl.metadata (4.6 kB)\n",
      "Collecting cachetools<6.0,>=2.0.0 (from google-auth!=2.24.0,!=2.25.0,<3.0.0.dev0,>=1.32.0->google-api-python-client)\n",
      "  Using cached cachetools-5.5.0-py3-none-any.whl.metadata (5.3 kB)\n",
      "Collecting pyasn1-modules>=0.2.1 (from google-auth!=2.24.0,!=2.25.0,<3.0.0.dev0,>=1.32.0->google-api-python-client)\n",
      "  Downloading pyasn1_modules-0.4.1-py3-none-any.whl.metadata (3.5 kB)\n",
      "Collecting rsa<5,>=3.1.4 (from google-auth!=2.24.0,!=2.25.0,<3.0.0.dev0,>=1.32.0->google-api-python-client)\n",
      "  Using cached rsa-4.9-py3-none-any.whl.metadata (4.2 kB)\n",
      "Requirement already satisfied: pyparsing!=3.0.0,!=3.0.1,!=3.0.2,!=3.0.3,<4,>=2.4.2 in c:\\users\\carso\\appdata\\local\\programs\\python\\python39\\lib\\site-packages (from httplib2<1.dev0,>=0.19.0->google-api-python-client) (3.1.4)\n",
      "Collecting oauthlib>=3.0.0 (from requests-oauthlib>=0.7.0->google-auth-oauthlib)\n",
      "  Using cached oauthlib-3.2.2-py3-none-any.whl.metadata (7.5 kB)\n",
      "Collecting pyasn1<0.7.0,>=0.4.6 (from pyasn1-modules>=0.2.1->google-auth!=2.24.0,!=2.25.0,<3.0.0.dev0,>=1.32.0->google-api-python-client)\n",
      "  Downloading pyasn1-0.6.1-py3-none-any.whl.metadata (8.4 kB)\n",
      "Collecting charset-normalizer<4,>=2 (from requests<3.0.0.dev0,>=2.18.0->google-api-core!=2.0.*,!=2.1.*,!=2.2.*,!=2.3.0,<3.0.0.dev0,>=1.31.5->google-api-python-client)\n",
      "  Downloading charset_normalizer-3.4.0-cp39-cp39-win_amd64.whl.metadata (34 kB)\n",
      "Collecting idna<4,>=2.5 (from requests<3.0.0.dev0,>=2.18.0->google-api-core!=2.0.*,!=2.1.*,!=2.2.*,!=2.3.0,<3.0.0.dev0,>=1.31.5->google-api-python-client)\n",
      "  Using cached idna-3.10-py3-none-any.whl.metadata (10 kB)\n",
      "Collecting urllib3<3,>=1.21.1 (from requests<3.0.0.dev0,>=2.18.0->google-api-core!=2.0.*,!=2.1.*,!=2.2.*,!=2.3.0,<3.0.0.dev0,>=1.31.5->google-api-python-client)\n",
      "  Downloading urllib3-2.2.3-py3-none-any.whl.metadata (6.5 kB)\n",
      "Collecting certifi>=2017.4.17 (from requests<3.0.0.dev0,>=2.18.0->google-api-core!=2.0.*,!=2.1.*,!=2.2.*,!=2.3.0,<3.0.0.dev0,>=1.31.5->google-api-python-client)\n",
      "  Using cached certifi-2024.8.30-py3-none-any.whl.metadata (2.2 kB)\n",
      "Using cached google_api_python_client-2.151.0-py2.py3-none-any.whl (12.5 MB)\n",
      "Using cached google_auth_httplib2-0.2.0-py2.py3-none-any.whl (9.3 kB)\n",
      "Using cached google_auth_oauthlib-1.2.1-py2.py3-none-any.whl (24 kB)\n",
      "Using cached google_api_core-2.22.0-py3-none-any.whl (156 kB)\n",
      "Using cached google_auth-2.35.0-py2.py3-none-any.whl (208 kB)\n",
      "Using cached httplib2-0.22.0-py3-none-any.whl (96 kB)\n",
      "Using cached requests_oauthlib-2.0.0-py2.py3-none-any.whl (24 kB)\n",
      "Using cached uritemplate-4.1.1-py2.py3-none-any.whl (10 kB)\n",
      "Using cached cachetools-5.5.0-py3-none-any.whl (9.5 kB)\n",
      "Using cached googleapis_common_protos-1.65.0-py2.py3-none-any.whl (220 kB)\n",
      "Using cached oauthlib-3.2.2-py3-none-any.whl (151 kB)\n",
      "Using cached proto_plus-1.25.0-py3-none-any.whl (50 kB)\n",
      "Downloading protobuf-5.28.3-cp39-cp39-win_amd64.whl (431 kB)\n",
      "Downloading pyasn1_modules-0.4.1-py3-none-any.whl (181 kB)\n",
      "Downloading requests-2.32.3-py3-none-any.whl (64 kB)\n",
      "Using cached rsa-4.9-py3-none-any.whl (34 kB)\n",
      "Using cached certifi-2024.8.30-py3-none-any.whl (167 kB)\n",
      "Downloading charset_normalizer-3.4.0-cp39-cp39-win_amd64.whl (102 kB)\n",
      "Using cached idna-3.10-py3-none-any.whl (70 kB)\n",
      "Downloading pyasn1-0.6.1-py3-none-any.whl (83 kB)\n",
      "Downloading urllib3-2.2.3-py3-none-any.whl (126 kB)\n",
      "Installing collected packages: urllib3, uritemplate, pyasn1, protobuf, oauthlib, idna, httplib2, charset-normalizer, certifi, cachetools, rsa, requests, pyasn1-modules, proto-plus, googleapis-common-protos, requests-oauthlib, google-auth, google-auth-oauthlib, google-auth-httplib2, google-api-core, google-api-python-client\n",
      "Successfully installed cachetools-5.5.0 certifi-2024.8.30 charset-normalizer-3.4.0 google-api-core-2.22.0 google-api-python-client-2.151.0 google-auth-2.35.0 google-auth-httplib2-0.2.0 google-auth-oauthlib-1.2.1 googleapis-common-protos-1.65.0 httplib2-0.22.0 idna-3.10 oauthlib-3.2.2 proto-plus-1.25.0 protobuf-5.28.3 pyasn1-0.6.1 pyasn1-modules-0.4.1 requests-2.32.3 requests-oauthlib-2.0.0 rsa-4.9 uritemplate-4.1.1 urllib3-2.2.3\n",
      "Note: you may need to restart the kernel to use updated packages.\n"
     ]
    },
    {
     "name": "stderr",
     "output_type": "stream",
     "text": [
      "  WARNING: The script normalizer.exe is installed in 'c:\\Users\\carso\\AppData\\Local\\Programs\\Python\\Python39\\Scripts' which is not on PATH.\n",
      "  Consider adding this directory to PATH or, if you prefer to suppress this warning, use --no-warn-script-location.\n",
      "  WARNING: The scripts pyrsa-decrypt.exe, pyrsa-encrypt.exe, pyrsa-keygen.exe, pyrsa-priv2pub.exe, pyrsa-sign.exe and pyrsa-verify.exe are installed in 'c:\\Users\\carso\\AppData\\Local\\Programs\\Python\\Python39\\Scripts' which is not on PATH.\n",
      "  Consider adding this directory to PATH or, if you prefer to suppress this warning, use --no-warn-script-location.\n",
      "  WARNING: The script google-oauthlib-tool.exe is installed in 'c:\\Users\\carso\\AppData\\Local\\Programs\\Python\\Python39\\Scripts' which is not on PATH.\n",
      "  Consider adding this directory to PATH or, if you prefer to suppress this warning, use --no-warn-script-location.\n",
      "\n",
      "[notice] A new release of pip is available: 24.2 -> 24.3.1\n",
      "[notice] To update, run: python.exe -m pip install --upgrade pip\n"
     ]
    }
   ],
   "source": [
    "%pip install google-api-python-client google-auth-httplib2 google-auth-oauthlib\n"
   ]
  },
  {
   "cell_type": "code",
   "execution_count": 1,
   "metadata": {},
   "outputs": [],
   "source": [
    "\n",
    "import varibles\n",
    "import pandas as pd\n",
    "import json\n",
    "import googleapiclient.discovery\n",
    "import sqlite3\n",
    "import matplotlib as plt\n",
    "%load_ext sql\n"
   ]
  },
  {
   "cell_type": "markdown",
   "metadata": {},
   "source": [
    "This next portion of code will gathers the YouTube stats for each video listed in the file \"YT_URLS.txt\", and writes it to a single json file named \"raw_YT_data.json\""
   ]
  },
  {
   "cell_type": "code",
   "execution_count": null,
   "metadata": {},
   "outputs": [],
   "source": [
    "# Replace with your actual API key\n",
    "API_KEY = varibles.key\n",
    "youtube = googleapiclient.discovery.build('youtube', 'v3', developerKey=API_KEY)\n",
    "\n",
    "with open('c:/Users/carso/Desktop/MainRepo/Projects/YT_URLS.txt','r') as INPUT_LIST:\n",
    "    for line in INPUT_LIST:\n",
    "      yt_id = line.split('=')[1][:11]\n",
    "      request = youtube.videos().list(part='snippet,contentDetails,statistics',id=yt_id)\n",
    "      response = request.execute()\n",
    "      with open('./raw_YT_data.json', 'a') as fd:\n",
    "        json.dump(response, fd)\n",
    "        fd.write(\"\\n\")"
   ]
  },
  {
   "cell_type": "markdown",
   "metadata": {},
   "source": [
    "The below cell will now extract the data from the json file and translate it into a dataframe"
   ]
  },
  {
   "cell_type": "code",
   "execution_count": null,
   "metadata": {},
   "outputs": [
    {
     "data": {
      "text/plain": [
       "<bound method NDFrame.head of                                                Title      Publication Date  \\\n",
       "0  TAPE 002 - to the mountain             GREYLOC...  2023-03-20T01:54:13Z   \n",
       "1  TAPE 003 - orientation protocols             G...  2023-03-31T03:19:00Z   \n",
       "2  TAPE 004 - unexpected visitors             GRE...  2023-04-14T18:00:15Z   \n",
       "\n",
       "      Video ID   Views Comments Channel Name                Channel ID  \n",
       "0  CJXtTWN4NQE  384690      554     GREYLOCK  UCYK5vX7-rpRCPOWJrWuMerg  \n",
       "1  VwCe45AH-_8  338361      508     GREYLOCK  UCYK5vX7-rpRCPOWJrWuMerg  \n",
       "2  hSTTxni3f90  277160      499     GREYLOCK  UCYK5vX7-rpRCPOWJrWuMerg  >"
      ]
     },
     "execution_count": 16,
     "metadata": {},
     "output_type": "execute_result"
    }
   ],
   "source": [
    "vid_data = []\n",
    "chan_data = []\n",
    "YT_data = []\n",
    "yt_list = []\n",
    "with open(\"c:/Users/carso/Desktop/MainRepo/Projects/raw_YT_data.json\") as f:\n",
    "    for object in f:\n",
    "        videodata = json.loads(object)\n",
    "        yt_list.append(videodata)\n",
    "\n",
    "for line in yt_list:\n",
    "    for item in line[\"items\"]:\n",
    "        title = item[\"snippet\"][\"title\"]\n",
    "        date = item[\"snippet\"][\"publishedAt\"]\n",
    "        vidId = item[\"id\"]\n",
    "        chanTitle = item[\"snippet\"][\"channelTitle\"]\n",
    "        chanId = item[\"snippet\"][\"channelId\"]\n",
    "        views = item[\"statistics\"][\"viewCount\"]\n",
    "        comments = item[\"statistics\"][\"commentCount\"]\n",
    "        vid_str = (title,date,vidId,views,comments)\n",
    "        chan_str = (chanTitle,chanId)\n",
    "        yt_net_data = (title,date,vidId,views,comments,chanTitle,chanId)\n",
    "        vid_data.append(vid_str)\n",
    "        chan_data.append(chan_str)\n",
    "        YT_data.append(yt_net_data)\n",
    "\n",
    "YT_NetData = pd.DataFrame(YT_data, columns=[\"Title\",\"Publication Date\",\"Video ID\",\"Views\",\"Comments\",\"Channel Name\",\"Channel ID\"])\n",
    "Chan_Stats = pd.DataFrame(chan_data, columns=[\"Channel Name\",\"Channel ID\"])\n",
    "Vid_Stats = pd.DataFrame(vid_data, columns=[\"Title\",\"Publication Date\",\"Video ID\",\"Views\",\"Comments\"])\n",
    "\n",
    "YT_NetData.head"
   ]
  },
  {
   "cell_type": "markdown",
   "metadata": {},
   "source": [
    "## Move the dataframe into a database"
   ]
  },
  {
   "cell_type": "code",
   "execution_count": null,
   "metadata": {},
   "outputs": [
    {
     "data": {
      "text/plain": [
       "3"
      ]
     },
     "execution_count": 17,
     "metadata": {},
     "output_type": "execute_result"
    }
   ],
   "source": [
    "conn = sqlite3.connect('c:/Users/carso/Desktop/MainRepo/Projects/AnalogeH.db')\n",
    "\n",
    "Vid_Stats.to_sql('Video_Data', conn)\n",
    "Chan_Stats.to_sql('Channel_Data', conn)"
   ]
  }
 ],
 "metadata": {
  "kernelspec": {
   "display_name": "Python 3",
   "language": "python",
   "name": "python3"
  },
  "language_info": {
   "codemirror_mode": {
    "name": "ipython",
    "version": 3
   },
   "file_extension": ".py",
   "mimetype": "text/x-python",
   "name": "python",
   "nbconvert_exporter": "python",
   "pygments_lexer": "ipython3",
   "version": "3.9.1"
  }
 },
 "nbformat": 4,
 "nbformat_minor": 2
}
